{
 "cells": [
  {
   "cell_type": "markdown",
   "id": "e063407d",
   "metadata": {
    "slideshow": {
     "slide_type": "slide"
    }
   },
   "source": [
    "# Matchmaking  Networks 🕸️"
   ]
  },
  {
   "cell_type": "code",
   "execution_count": null,
   "id": "27d5aa16",
   "metadata": {},
   "outputs": [],
   "source": [
    "%matplotlib inline\n",
    "%config InlineBackend.figure_format = 'svg'"
   ]
  },
  {
   "cell_type": "code",
   "execution_count": null,
   "id": "7b3edb55",
   "metadata": {},
   "outputs": [],
   "source": [
    "import pathlib\n",
    "import sys\n",
    "\n",
    "import graph_tool.all as gt\n",
    "import matplotlib.pyplot as plt\n",
    "import numpy as np\n",
    "import pandas as pd\n",
    "import powerlaw\n",
    "import seaborn as sns\n",
    "\n",
    "from matplotlib import colormaps as cm\n",
    "from matplotlib.colors import Normalize\n",
    "from scipy.stats import norm, gumbel_r\n",
    "from tqdm import tqdm\n",
    "import random\n",
    "\n",
    "from IPython.display import display, HTML\n",
    "from matplotlib_inline.backend_inline import set_matplotlib_formats\n",
    "\n",
    "\n",
    "# Set plot theme\n",
    "sns.set_theme(style=\"whitegrid\")\n",
    "\n",
    "# Center figures on Juypter Notebook\n",
    "display(HTML(\"<style>.output_png { display: flex; justify-content: center; }</style>\"))"
   ]
  },
  {
   "cell_type": "code",
   "execution_count": null,
   "id": "0ebf9df5",
   "metadata": {},
   "outputs": [],
   "source": [
    "YEAR = sys.argv[1] if len(sys.argv) > 1 else \"2014\"\n",
    "YEAR = \"2014-2015-2016\"\n",
    "ROOT_PATH = pathlib.Path(\"..\")\n",
    "DATA_PATH = ROOT_PATH / \"data\"\n",
    "CSV_PATHS = sorted((DATA_PATH / \"csv\").glob(f\"*201[4-6]*.csv\"))\n",
    "GT_PATH = DATA_PATH / \"gt\" / f\"{YEAR}.gt\"\n",
    "\n",
    "assert len(CSV_PATHS) > 0"
   ]
  },
  {
   "cell_type": "markdown",
   "id": "095b60d8",
   "metadata": {
    "slideshow": {
     "slide_type": "slide"
    }
   },
   "source": [
    "## Introduction\n",
    "\n",
    "\n",
    "Given a pool of players (nodes), pair them **by skill level $X$** to ensure enjoyable games (links). "
   ]
  },
  {
   "cell_type": "code",
   "execution_count": null,
   "id": "a19de7e8",
   "metadata": {},
   "outputs": [],
   "source": [
    "np.random.seed(42)\n",
    "\n",
    "# param N_elos (f), dist of players elos\n",
    "mu_f = 1500\n",
    "o_f = 250\n",
    "o2_f = o_f ** 2\n",
    "\n",
    "players = {\n",
    "    0: {\"pos\": (0, 0)},\n",
    "    1: {\"pos\": (1, 4)},\n",
    "    2: {\"pos\": (4, 3)},\n",
    "    3: {\"pos\": (6, 1)},\n",
    "    4: {\"pos\": (6, 6)},\n",
    "    5: {\"pos\": (3, 0)},\n",
    "}\n",
    "\n",
    "# generate ELO by sampling from N_elos\n",
    "elos = np.empty(len(players))\n",
    "for i, player in players.items():\n",
    "    elo = int(np.random.normal(mu_f, o_f))\n",
    "    players[i][\"elo\"] = elo\n",
    "    elos[i] = elo\n",
    "\n",
    "# add color based on ELO\n",
    "normalize = plt.Normalize(min(elos), max(elos))\n",
    "cmap = cm[\"viridis\"]\n",
    "for i, player in players.items():\n",
    "    players[i][\"color\"] = cmap(normalize(player[\"elo\"]))"
   ]
  },
  {
   "cell_type": "code",
   "execution_count": null,
   "id": "1b0df570",
   "metadata": {},
   "outputs": [],
   "source": [
    "fig, (ax1, ax2) = plt.subplots(1, 2, figsize=(14, 6))\n",
    "\n",
    "# Draw the rectangle (pool)\n",
    "offset = 1.5\n",
    "x = min(p[\"pos\"][0] for p in players.values()) - offset\n",
    "y = min(p[\"pos\"][1] for p in players.values()) - offset\n",
    "w = max(p[\"pos\"][0] for p in players.values()) + 2 * offset\n",
    "h = max(p[\"pos\"][1] for p in players.values()) + 2 * offset\n",
    "\n",
    "rectangle1 = plt.Rectangle((x, y), w, h, fill=None, edgecolor='black')\n",
    "rectangle2 = plt.Rectangle((x, y), w, h, fill=None, edgecolor='black')\n",
    "ax1.add_patch(rectangle1)\n",
    "ax2.add_patch(rectangle2)\n",
    "\n",
    "ax1.set_xlim(x - .5, x + w + .5)\n",
    "ax1.set_ylim(y - .5, y + h + .5)\n",
    "ax1.axis('off')\n",
    "ax1.set_aspect('equal')\n",
    "\n",
    "ax2.set_xlim(x - .5, x + w + .5)\n",
    "ax2.set_ylim(y - .5, y + h + .5)\n",
    "ax2.axis('off')\n",
    "ax2.set_aspect('equal')\n",
    "\n",
    "# Plot the players as circles with their index on the first plot\n",
    "for I, player in players.items():\n",
    "    x, y = player[\"pos\"]\n",
    "    circle = plt.Circle((x, y), 0.5, facecolor='black', fill=True, edgecolor='black', linewidth=1.5)\n",
    "    ax1.add_patch(circle)\n",
    "    ax1.text(x, y, I, fontsize=15, ha='center', va='center', color='white')\n",
    "\n",
    "\n",
    "# Plot the players as circles colored by ELO on the second plot\n",
    "for I, player in players.items():\n",
    "    x, y = player[\"pos\"]\n",
    "    circle = plt.Circle((x, y), 0.5, facecolor=player[\"color\"], fill=True, edgecolor='black', linewidth=1.5)\n",
    "    ax2.add_patch(circle)\n",
    "    ax2.text(x, y + .8, player[\"elo\"], fontsize=15, ha='center', va='center', color='black')"
   ]
  },
  {
   "cell_type": "markdown",
   "id": "8fb36ec9",
   "metadata": {
    "slideshow": {
     "slide_type": "subslide"
    }
   },
   "source": [
    "1. Start from $N$ players with associated rating (color) $x$ "
   ]
  },
  {
   "cell_type": "code",
   "execution_count": null,
   "id": "7cc9ca68",
   "metadata": {},
   "outputs": [],
   "source": [
    "eg = gt.Graph(directed=True)\n",
    "\n",
    "vp_idx = eg.new_vertex_property(\"short\")\n",
    "vp_pos = eg.new_vertex_property(\"vector<double>\")\n",
    "vp_elo = eg.new_vertex_property(\"short\")\n",
    "vp_color = eg.new_vertex_property(\"vector<double>\")\n",
    "ep_num = eg.new_edge_property(\"int\", val=0)\n",
    "\n",
    "for i, player in players.items():\n",
    "    v = eg.add_vertex()\n",
    "    x, y = player[\"pos\"]\n",
    "    vp_idx[v] = i\n",
    "    vp_pos[v] = (x, -y)\n",
    "    vp_elo[v] = player[\"elo\"]\n",
    "    vp_color[v] = player[\"color\"]\n",
    "\n",
    "eg.vp[\"idx\"] = vp_idx\n",
    "eg.vp[\"pos\"] = vp_pos\n",
    "eg.vp[\"elo\"] = vp_elo\n",
    "eg.vp[\"color\"] = vp_color\n",
    "eg.ep[\"num\"] = ep_num\n",
    "\n",
    "\n",
    "gt.graph_draw(\n",
    "    eg, \n",
    "    pos=eg.vp[\"pos\"], \n",
    "    vertex_fill_color=eg.vp[\"color\"],\n",
    "    output_size=(350,350),\n",
    "    vertex_size=48,\n",
    "    vertex_pen_width=1.5,\n",
    "    edge_pen_width=gt.prop_to_size(eg.ep[\"num\"]),\n",
    "    edge_end_marker=\"arrow\",\n",
    ");"
   ]
  },
  {
   "cell_type": "markdown",
   "id": "0737e5cf",
   "metadata": {
    "slideshow": {
     "slide_type": "subslide"
    }
   },
   "source": [
    "2. Pairs two players. Players with similar rating have higher probability to be paired."
   ]
  },
  {
   "cell_type": "code",
   "execution_count": null,
   "id": "be1fd748",
   "metadata": {},
   "outputs": [],
   "source": [
    "def get_target(v, g):\n",
    "    # params N_elo (g)\n",
    "    mu_g = g.vp[\"elo\"][v]\n",
    "    o_g = 200\n",
    "    o2_g = o_g ** 2\n",
    "\n",
    "    # params N (fg)\n",
    "    mu_fg = (mu_f * o2_g + mu_g * o2_f) / (o2_f + o2_g)\n",
    "    o_fg = np.sqrt((o2_f * o2_g) / (o2_f + o2_g))\n",
    "    o2_fg = o_fg ** 2\n",
    "    \n",
    "    # draw a sample form the N_fg distribution\n",
    "    sample = np.random.normal(mu_fg, o_fg)\n",
    "    \n",
    "    elos[int(v)] = np.infty # avoid self loop\n",
    "    u = g.vertex(abs(elos - sample).argmin())\n",
    "    elos[int(v)] = g.vp[\"elo\"][v] # restore elos arr\n",
    "    return u\n",
    "\n",
    "def add_edge(g):\n",
    "    v = g.vertex(np.random.randint(0, len(g)))\n",
    "    u = get_target(v, g)\n",
    "    vu = g.edge(v, u)\n",
    "    if vu is None:\n",
    "        vu = g.add_edge(v, u, add_missing=False)\n",
    "    g.ep[\"num\"][vu] += 1"
   ]
  },
  {
   "cell_type": "code",
   "execution_count": null,
   "id": "690f9113",
   "metadata": {},
   "outputs": [],
   "source": [
    "add_edge(eg)\n",
    "\n",
    "gt.graph_draw(\n",
    "    eg, \n",
    "    pos=eg.vp[\"pos\"], \n",
    "    vertex_fill_color=eg.vp[\"color\"],\n",
    "    output_size=(350,350),\n",
    "    vertex_size=48,\n",
    "    vertex_pen_width=1.5,\n",
    "    edge_pen_width=3,\n",
    "    edge_end_marker=\"arrow\",\n",
    ");"
   ]
  },
  {
   "cell_type": "markdown",
   "id": "f05fd7da",
   "metadata": {
    "slideshow": {
     "slide_type": "subslide"
    }
   },
   "source": [
    "3. Repeat. Increase edge weight by one if the edge already exists."
   ]
  },
  {
   "cell_type": "code",
   "execution_count": null,
   "id": "8e53a7d2",
   "metadata": {},
   "outputs": [],
   "source": [
    "for _ in range(10_000):\n",
    "    add_edge(eg)\n",
    "    \n",
    "gt.graph_draw(\n",
    "    eg, \n",
    "    pos=eg.vp[\"pos\"], \n",
    "    vertex_fill_color=eg.vp[\"color\"],\n",
    "    output_size=(350,350),\n",
    "    vertex_size=48,\n",
    "    vertex_pen_width=1.5,\n",
    "    edge_pen_width=gt.prop_to_size(eg.ep[\"num\"]),\n",
    ");"
   ]
  },
  {
   "cell_type": "markdown",
   "id": "15c30aa9",
   "metadata": {
    "slideshow": {
     "slide_type": "subslide"
    }
   },
   "source": [
    "Let’s focus on the player with highest rating (yellow node):\n",
    "\n",
    "- Strong links with next strong players (green / blue nodes)\n",
    "- Few links with low rated players (dark purple nodes)\n",
    "- Links weights are not symmetric\n",
    "\n"
   ]
  },
  {
   "cell_type": "code",
   "execution_count": null,
   "id": "2c466986",
   "metadata": {},
   "outputs": [],
   "source": [
    "_eg = gt.Graph(eg) \n",
    "\n",
    "max_i = np.array([_eg.vp[\"elo\"] for v in _eg.vertices()]).argmax()\n",
    "\n",
    "for ij in [e for e in _eg.edges()]:\n",
    "    i, j = ij.source(), ij.target()\n",
    "    if i == max_i or j == max_i:\n",
    "        continue\n",
    "    _eg.remove_edge(ij)\n",
    "    _eg.ep[\"num\"][ij] = 0\n",
    "\n",
    "gt.graph_draw(\n",
    "    _eg, \n",
    "    #pos=_eg.vp[\"pos\"], \n",
    "    vertex_fill_color=_eg.vp[\"color\"],\n",
    "    output_size=(350,350),\n",
    "    vertex_size=48,\n",
    "    vertex_pen_width=1.5,\n",
    "    edge_pen_width=gt.prop_to_size(_eg.ep[\"num\"]),\n",
    "    edge_end_marker=\"arrow\",\n",
    ");"
   ]
  },
  {
   "cell_type": "markdown",
   "id": "ca4419ed",
   "metadata": {
    "slideshow": {
     "slide_type": "slide"
    }
   },
   "source": [
    "## Rating System\n",
    "\n",
    "Many matchmaking algorithms rely on rating system to provide fair matches, i.e.\n",
    "\n",
    "\n",
    "***a scalar value quantifies the player’s strength relative to other players.***\n",
    "\n",
    "---\n",
    "\n",
    "Matchmaking based on rating systems is employed in\n",
    "\n",
    "- **Board Games**: Chess, Go, Backgammon, ...\n",
    "\n",
    "- **Video Games**: League of Legends,  Dota 2, CS:GO, ...\n",
    "\n",
    "- **Sports**: Tennis, Table Tennis, ...\n",
    "\n",
    "---\n",
    "\n",
    "I've studied the emerging matchmaking network on **chess games** dataset."
   ]
  },
  {
   "cell_type": "markdown",
   "id": "85b5e6eb",
   "metadata": {
    "slideshow": {
     "slide_type": "subslide"
    }
   },
   "source": [
    "### Elo - Definition\n",
    "\n",
    "Proposed by Arpad Elo, it infers rating from wins, losses, and draws against other players.\n",
    "\n",
    "---\n",
    "Let $E_A$ be the expected result for player $A$ with rating $x_A$ (same for player $B$)\n",
    "\n",
    "$$\n",
    "\\begin{cases}\n",
    "E_A \\propto 10^{x_A / 400} \\\\\n",
    "E_B \\propto 10^{x_B / 400}\n",
    "\\end{cases}\n",
    "\\quad \\textrm{such that} \\quad\n",
    "E_A + E_B = 1\n",
    "$$\n",
    "\n",
    "If the game result is $S_A$, $x_A'$ is the updated rating of player A:\n",
    "\n",
    "$$\n",
    "x_A' = x_A + K \\cdot (S_A - E_A)\n",
    "\\quad \\textrm{where} \\quad\n",
    "S_A = \n",
    "\\begin{cases}\n",
    "1   &\\textrm{if $A$ wins}  \\\\\n",
    "0.5 &\\textrm{if $A$ draws} \\\\\n",
    "0   &\\textrm{if $A$ loses} \\\\\n",
    "\\end{cases}\n",
    "$$\n",
    "\n",
    "$K$ is a fixed parameter, usually in the range $[10, 40]$.\n"
   ]
  },
  {
   "cell_type": "markdown",
   "id": "a4b63f20",
   "metadata": {
    "slideshow": {
     "slide_type": "subslide"
    }
   },
   "source": [
    "### Elo - Distribution\n",
    "\n",
    "$$\n",
    "E_A = \\mathbb{P} (A \\, \\textrm{wins}) \n",
    "    = {\\left[1 + e^{-\\frac{\\ln{10}}{400} (x_A - x_B )} \\right]}^{-1} \n",
    "\\quad\n",
    "F_{\\textrm{ Logistic}} (x \\, | \\, \\mu, \\, \\beta ) \n",
    "= {\\left[\n",
    "1 + e^{-\\frac{(x - \\mu )}{\\beta}} \\right]}^{-1} \n",
    "$$\n",
    "\n",
    "$$\n",
    "X_A - X_B \\sim \n",
    "\\textrm{Logistic} \\left(x_A - x_B \\, | \\, \\mu=0, \\, \\beta=\\frac{400}{\\ln{10}} \\right)\n",
    "$$\n",
    "\n",
    "---\n",
    "\n",
    "*Property*\n",
    "\n",
    "$$\n",
    "\\begin{cases}\n",
    "X_A \\sim \\textrm{Gumbel }(x_A \\, | \\mu_{X_A}, \\, \\beta)\\\\\n",
    "X_B \\sim \\textrm{Gumbel }(x_B \\, | \\mu_{X_B}, \\, \\beta)\n",
    "\\end{cases}\n",
    "\\quad \\Rightarrow \\quad\n",
    "X_A - X_B \\sim \n",
    "\\textrm{Logistic} \\left(x_A - x_B \\, | \\, \\mu_{X_A} - \\mu_{X_B}, \\, \\beta \\right)\n",
    "$$\n",
    "\n",
    "---\n",
    "\n",
    "$$\n",
    "\\Longrightarrow X \\sim\n",
    "\\textrm{Gumbel}\\left(x \\, | \\, \\mu=\\mu_{X}, \\, \\beta=\\frac{400}{\\ln{10}} \\right) \n",
    "= \\frac{1}{\\beta} \\exp{\\left[\\frac{x - \\mu}{\\beta} - \\exp{\\left(\\frac{x - \\mu}{\\beta}\\right)}\\right]}\n",
    "$$"
   ]
  },
  {
   "cell_type": "code",
   "execution_count": null,
   "id": "f0ae52b9",
   "metadata": {},
   "outputs": [],
   "source": [
    "# Gumbel distribution\n",
    "x = np.linspace(1000, 2800, 1000)\n",
    "mu = 1500\n",
    "beta = 400 / np.log(10)\n",
    "y = gumbel_r.pdf(x, mu, beta)\n",
    "\n",
    "# Set up the figure and axis\n",
    "fig, ax = plt.subplots(figsize=(14, 7))\n",
    "\n",
    "# Plot the Gumbel distribution\n",
    "sns.lineplot(x=x, y=y, color=\"tab:blue\", linestyle=\"-\", ax=ax, label=r'Gumbel $\\left(\\mu=1500, \\, \\beta=\\frac{400}{\\ln{10}}\\right)$')\n",
    "ax.set_xlabel('$x$', fontsize=15)\n",
    "ax.set_yticklabels([])\n",
    "ax.tick_params(axis='both', which='major', labelsize=13)\n",
    "ax.legend(fontsize=15)\n",
    "plt.show()"
   ]
  },
  {
   "cell_type": "markdown",
   "id": "5fa65aa7",
   "metadata": {
    "slideshow": {
     "slide_type": "slide"
    }
   },
   "source": [
    "## Matchmaking Network - Chess Games \n",
    "\n",
    "- **Dataset**: games played on lichess.org between 2014 and 2016.\n",
    "- **Rating System**: Glicko-2, an improvement over Elo.\n",
    "- **Matchmaking**: pairs players with similar rating, $x \\pm \\Delta x$"
   ]
  },
  {
   "cell_type": "markdown",
   "id": "61348f5c",
   "metadata": {
    "slideshow": {
     "slide_type": "subslide"
    }
   },
   "source": [
    "### Players distribution"
   ]
  },
  {
   "cell_type": "code",
   "execution_count": null,
   "id": "3560193d",
   "metadata": {},
   "outputs": [],
   "source": [
    "def gen_df_games(csv_path: pathlib.Path, outliers_path:pathlib.Path) -> pd.DataFrame:\n",
    "    cols = {\n",
    "        \"utc_date\": \"string\",\n",
    "        \"utc_time\": \"string\",\n",
    "        \"white\": \"string\",\n",
    "        \"black\": \"string\",\n",
    "        \"white_elo\": \"int\",\n",
    "        \"black_elo\": \"int\",\n",
    "    }\n",
    "    df = pd.read_csv(csv_path, dtype=cols, usecols=cols.keys())  # type: ignore\n",
    "\n",
    "    # drrop outliers white or black\n",
    "    with open(outliers_path, \"r\") as f:\n",
    "        outliers = set(f.read().splitlines())\n",
    "    df = df[~df[\"white\"].isin(outliers) & ~df[\"black\"].isin(outliers)]\n",
    "\n",
    "    df[\"utc_datetime\"] = pd.to_datetime(df[\"utc_date\"] + \" \" + df[\"utc_time\"])\n",
    "    df.drop(columns=[\"utc_date\", \"utc_time\"], inplace=True)\n",
    "    df.sort_values(by=\"utc_datetime\", inplace=True)\n",
    "    df = df.reindex(\n",
    "        columns=[\n",
    "            \"utc_datetime\",\n",
    "            \"white\",\n",
    "            \"black\",\n",
    "            \"white_elo\",\n",
    "            \"black_elo\",\n",
    "        ]\n",
    "    )\n",
    "    return df\n",
    "\n",
    "\n",
    "def gen_df_players(df_games: pd.DataFrame) -> pd.DataFrame:\n",
    "    df_melted = pd.melt(\n",
    "        df_games,\n",
    "        id_vars=[\"utc_datetime\"],\n",
    "        value_vars=[\"white\", \"black\"],\n",
    "        value_name=\"player\",\n",
    "        var_name=\"color\",\n",
    "    )\n",
    "    df_melted[\"elo\"] = pd.concat(\n",
    "        [df_games[\"white_elo\"], df_games[\"black_elo\"]],\n",
    "        ignore_index=True,\n",
    "    )\n",
    "    df_players = pd.DataFrame(\n",
    "        {\n",
    "            \"elo\": df_melted.groupby(\"player\")[\"elo\"].mean().astype(int),\n",
    "            \"num\": df_melted.groupby(\"player\")[\"elo\"].count().astype(int),\n",
    "        }\n",
    "    )\n",
    "\n",
    "    # > 20 games is the criteria used by Lichess in Arena Tournaments.\n",
    "    # I select player > 50 games to avoid burn-out accounts.\n",
    "    # Also the account with more than 4000 games per month are bot or are violating TOS.\n",
    "    # df_players = df_players[(df_players[\"num\"] > 50)]  # & (df_players[\"num\"] < 4000)]\n",
    "    df_players = df_players[(df_players[\"num\"] > 20)]\n",
    "    df_players.dropna(subset=[\"elo\"], inplace=True)\n",
    "\n",
    "    # assign a bin to each player based on their elo\n",
    "    elo_min = df_players[\"elo\"].min() // 50 * 50\n",
    "    elo_max = df_players[\"elo\"].max() // 50 * 50\n",
    "    bins = np.arange(elo_min, elo_max + 50, 50, dtype=int)\n",
    "    df_players[\"bin\"] = pd.cut(df_players[\"elo\"], bins=bins, labels=bins[:-1])\n",
    "    df_players.dropna(subset=[\"bin\"], inplace=True)\n",
    "    df_players[\"bin\"] = df_players[\"bin\"].astype(int)\n",
    "\n",
    "    # This is important because it make the creation of the assorativity matrix easier\n",
    "    df_players.sort_values(by=\"elo\", ascending=True, inplace=True)\n",
    "\n",
    "    # assign a int to each player to be used as vertex\n",
    "    df_players[\"v\"] = np.arange(len(df_players), dtype=int)\n",
    "    df_players[\"v_bin\"] = df_players[\"bin\"].map({bin: i for i, bin in enumerate(bins)})\n",
    "    return df_players\n",
    "\n",
    "\n",
    "def generate_dfs(\n",
    "        csv_paths: list[pathlib.Path],\n",
    "        outliers_path:pathlib.Path = DATA_PATH / \"outliers.txt\",\n",
    "    ) -> tuple[pd.DataFrame, pd.DataFrame]:\n",
    "    df_games = tqdm((gen_df_games(path, outliers_path) for path in csv_paths), total=len(csv_paths))\n",
    "    df_games = pd.concat(df_games, ignore_index=True)\n",
    "    df_players = gen_df_players(df_games)\n",
    "\n",
    "    df_games = df_games[\n",
    "        df_games[\"white\"].isin(df_players.index)\n",
    "        & df_games[\"black\"].isin(df_players.index)\n",
    "    ]\n",
    "\n",
    "    # add vertex id to games\n",
    "    df_games[\"v_white\"] = df_games[\"white\"].map(df_players[\"v\"])\n",
    "    df_games[\"v_black\"] = df_games[\"black\"].map(df_players[\"v\"])\n",
    "    df_games[\"v_bin_white\"] = df_games[\"white\"].map(df_players[\"v_bin\"])\n",
    "    df_games[\"v_bin_black\"] = df_games[\"black\"].map(df_players[\"v_bin\"])\n",
    "    \n",
    "    return df_games, df_players\n",
    "\n",
    "\n",
    "df_games, df_players = generate_dfs(CSV_PATHS)"
   ]
  },
  {
   "cell_type": "code",
   "execution_count": null,
   "id": "98ec39a3",
   "metadata": {},
   "outputs": [],
   "source": [
    "def plot_players_distribution(df_players: pd.DataFrame):\n",
    "    # histplot\n",
    "    fig, ax = plt.subplots(figsize=(14, 6))\n",
    "    sns.histplot(\n",
    "        df_players,\n",
    "        x=\"elo\",\n",
    "        bins=df_players[\"bin\"].unique(),\n",
    "        stat=\"density\",\n",
    "        ax=ax,\n",
    "    )\n",
    "    \n",
    "    # Fit a Gumbel distribution\n",
    "    params = gumbel_r.fit(df_players[\"elo\"])\n",
    "    loc, scale = params\n",
    "    x = np.linspace(df_players[\"elo\"].min(), df_players[\"elo\"].max(), 100)\n",
    "    pdf = gumbel_r.pdf(x, loc, scale)\n",
    "\n",
    "    # Plot the Gumbel distribution\n",
    "    sns.lineplot(x=x, y=pdf, color=\"black\", linestyle=\"--\", ax=ax, label=\"Gumbel Fit\")\n",
    "\n",
    "    # Fit a normal distribution\n",
    "    elo_mean = df_players[\"elo\"].mean()\n",
    "    elo_std = df_players[\"elo\"].std()\n",
    "    x = np.linspace(df_players[\"elo\"].min(), df_players[\"elo\"].max(), 100)\n",
    "    pdf = norm.pdf(x, elo_mean, elo_std)\n",
    "\n",
    "    # Plot the normal distribution\n",
    "    sns.lineplot(x=x, y=pdf, color=\"black\", linestyle=\"-\", ax=ax, label=\"Normal Fit\")\n",
    "\n",
    "    # Color based on elo\n",
    "    norm_color = plt.Normalize(df_players[\"bin\"].min(), df_players[\"bin\"].max())\n",
    "    for patch in ax.patches:\n",
    "        bar_center = patch.get_x() + patch.get_width() / 2\n",
    "        patch.set_color(cm[\"viridis\"](norm_color(bar_center)))\n",
    "        patch.set_edgecolor(\"white\")\n",
    "        \n",
    "\n",
    "    ax.set_ylabel('Density', fontsize=15)\n",
    "    ax.set_xlabel('$x$', fontsize=15)\n",
    "    ax.set_yticklabels([])\n",
    "    ax.tick_params(axis='both', which='major', labelsize=13)\n",
    "    ax.legend(fontsize=15)\n",
    "\n",
    "\n",
    "plot_players_distribution(df_players)"
   ]
  },
  {
   "cell_type": "markdown",
   "id": "d51d8ed9",
   "metadata": {
    "slideshow": {
     "slide_type": "subslide"
    }
   },
   "source": [
    "### Games distribution"
   ]
  },
  {
   "cell_type": "code",
   "execution_count": null,
   "id": "2010941d",
   "metadata": {},
   "outputs": [],
   "source": [
    "def plot_games_distribution(df_players: pd.DataFrame):\n",
    "    fig, ax = plt.subplots(figsize=(14, 6))\n",
    "\n",
    "    sns.histplot(\n",
    "        df_players,\n",
    "        x=\"num\",\n",
    "        hue=\"bin\",\n",
    "        stat=\"count\",\n",
    "        multiple=\"stack\",\n",
    "        palette=\"viridis\",\n",
    "        edgecolor=None,\n",
    "        bins=50,\n",
    "        ax=ax,\n",
    "        legend=False,\n",
    "    )\n",
    "    ax.set_yscale(\"log\")\n",
    "\n",
    "    ax.set_ylabel('# Players', fontsize=15)\n",
    "    ax.set_xlabel('# Games', fontsize=15)\n",
    "    ax.tick_params(axis='both', which='major', labelsize=13)\n",
    "\n",
    "\n",
    "plot_games_distribution(df_players)"
   ]
  },
  {
   "cell_type": "markdown",
   "id": "203a2977",
   "metadata": {
    "slideshow": {
     "slide_type": "subslide"
    }
   },
   "source": [
    "### Graph\n",
    "\n"
   ]
  },
  {
   "cell_type": "code",
   "execution_count": null,
   "id": "41166bd0",
   "metadata": {},
   "outputs": [],
   "source": [
    "def gen_graph(df_games: pd.DataFrame, df_players: pd.DataFrame) -> gt.Graph:\n",
    "    if GT_PATH.exists():\n",
    "        with open(GT_PATH, \"rb\") as f:\n",
    "            return gt.load_graph(f)\n",
    "\n",
    "    g = gt.Graph(directed=True)\n",
    "    vp_elo = g.new_vp(\"short\", val=1500)  # elo is initialized to 1500\n",
    "    ep_num = g.new_ep(\"short\")  # number of games between players\n",
    "\n",
    "    # add edges and edge properties\n",
    "    white_groups = tqdm(df_games.groupby(\"v_white\"), total=len(df_players))\n",
    "    for v_white, white_games in white_groups:\n",
    "        for v_black, black_games in white_games.groupby(\"v_black\"):\n",
    "            e = g.add_edge(v_white, v_black)\n",
    "            ep_num[e] = len(black_games)\n",
    "\n",
    "    # add vertex properties\n",
    "    for player, row in df_players.iterrows():\n",
    "        v = g.vertex(row.v)\n",
    "        vp_elo[v] = row.elo\n",
    "\n",
    "    g.ep[\"num\"] = ep_num\n",
    "    g.vp[\"elo\"] = vp_elo\n",
    "    \n",
    "    # This help to exclude games manually arranged by players\n",
    "    g_connected = gt.extract_largest_component(g, prune=False)\n",
    "\n",
    "    with open(GT_PATH, \"wb\") as f:\n",
    "        g_connected.save(f)\n",
    "\n",
    "    return g_connected\n",
    "\n",
    "g = gen_graph(df_games, df_players)\n",
    "g"
   ]
  },
  {
   "cell_type": "markdown",
   "id": "3b43eddc",
   "metadata": {
    "slideshow": {
     "slide_type": "-"
    }
   },
   "source": [
    "- **Nodes** \n",
    "    - represent a player\n",
    "    - property: $x$\n",
    "    - $N = 172,195$\n",
    "\n",
    "- **Links**\n",
    "    - represent games played between two players\n",
    "    - directed: player with white pieces is the source\n",
    "    - weight: number of games\n",
    "    - $L = 30,081,979$"
   ]
  },
  {
   "cell_type": "code",
   "execution_count": null,
   "id": "26107f17",
   "metadata": {},
   "outputs": [],
   "source": [
    "assort, var_assort = gt.scalar_assortativity(g, g.vp[\"elo\"])\n",
    "print(f\"Scalar assortativity:\\t {assort:.4f} ± {var_assort:.4f}\")"
   ]
  },
  {
   "cell_type": "markdown",
   "id": "6f97b3c4",
   "metadata": {
    "slideshow": {
     "slide_type": "subslide"
    }
   },
   "source": [
    "- **$x$-assortativity**\n",
    "    - expected high positive value\n",
    "    - $0.7612 \\pm 0.0001$"
   ]
  },
  {
   "cell_type": "code",
   "execution_count": null,
   "id": "543e46bc",
   "metadata": {},
   "outputs": [],
   "source": [
    "def plot_assortativity_matrix_g(g: gt.Graph):\n",
    "    adj = gt.adjacency(g)\n",
    "    fig, ax = plt.subplots(figsize=(4, 4))\n",
    "    ax.spy(adj, markersize=0.01, origin=\"lower\", marker=\".\")\n",
    "\n",
    "    # Set the ticks and labels to the sorted ELOs\n",
    "    tick_indices = np.linspace(\n",
    "        start=0,\n",
    "        stop=adj.shape[0] - 10,  # a little bit of padding\n",
    "        num=8,  # number of ticks\n",
    "        endpoint=True,\n",
    "        dtype=int,\n",
    "    )\n",
    "    tick_labels = [g.vp[\"elo\"][idx] for idx in tick_indices]\n",
    "\n",
    "    ax.set_xticks(tick_indices[1:])\n",
    "    ax.set_yticks(tick_indices[:])\n",
    "    ax.set_xticklabels(tick_labels[1:], rotation=45)\n",
    "    ax.set_yticklabels(tick_labels[:])\n",
    "    ax.tick_params(axis='both', which='major', labelsize=13)\n",
    "\n",
    "    \n",
    "#  This is to hard to plot with SVG backend\n",
    "with plt.rc_context({'savefig.format': 'png'}):\n",
    "    set_matplotlib_formats('retina')\n",
    "    plot_assortativity_matrix_g(g)"
   ]
  },
  {
   "cell_type": "markdown",
   "id": "8e2ae332",
   "metadata": {
    "slideshow": {
     "slide_type": "subslide"
    }
   },
   "source": [
    "- **Degree distribution**\n",
    "    - Does not follow power-law\n",
    "    - Physical limit (games per month) & Structural limit (nodes with extreme $x$)"
   ]
  },
  {
   "cell_type": "code",
   "execution_count": null,
   "id": "df69d104",
   "metadata": {},
   "outputs": [],
   "source": [
    "k_in = np.fromiter((v.in_degree() for v in g.vertices()), dtype=int)\n",
    "k_out = np.fromiter((v.out_degree() for v in g.vertices()), dtype=int)\n",
    "k_tot = k_in + k_out\n",
    "\n",
    "k_out = k_out[k_out > 10]\n",
    "k_tot = k_tot[k_tot > 20]\n",
    "\n",
    "\n",
    "bin_edges = np.logspace(np.log10(min(k_tot)), np.log10(max(k_tot)), num=30)\n",
    "bin_centers = (bin_edges[:-1] + bin_edges[1:]) / 2\n",
    "\n",
    "# Create a figure and axis object\n",
    "fig, ax = plt.subplots(figsize=(9, 4.5))\n",
    "\n",
    "sns.scatterplot(x=bin_centers, y=np.histogram(k_tot, bins=bin_edges)[0] / sum(k_tot), marker='s', ax=ax, label=r\"$P_{k^{\\text{tot}}}$\", s=100)\n",
    "sns.scatterplot(x=bin_centers, y=np.histogram(k_out, bins=bin_edges)[0] / sum(k_out), marker='o', ax=ax, label=r\"$P_{k^{\\text{out}}}$\", s=100)\n",
    "\n",
    "ax.set_xlabel(r\"$k$\",  fontsize=15)\n",
    "ax.set_ylabel(r\"$P_k$\",fontsize=15)\n",
    "ax.set_xscale('log')\n",
    "ax.set_yscale('log')\n",
    "ax.tick_params(axis='both', which='major', labelsize=13)\n",
    "ax.legend(fontsize=15)\n",
    "plt.show()"
   ]
  },
  {
   "cell_type": "code",
   "execution_count": null,
   "id": "cc332ff3",
   "metadata": {},
   "outputs": [],
   "source": [
    "dist_counts, dist_bins = gt.distance_histogram(g, samples=2000, float_count=False)\n",
    "dist_avg = sum(dist_counts * dist_bins[:-1]) / sum(dist_counts)\n",
    "dist_max = gt.pseudo_diameter(g, source=0)\n",
    "\n",
    "print(\"avg dist:\", dist_avg)\n",
    "print(\"max dist:\", dist_max)"
   ]
  },
  {
   "cell_type": "markdown",
   "id": "f1b77406",
   "metadata": {
    "slideshow": {
     "slide_type": "subslide"
    }
   },
   "source": [
    "- **Distances**\n",
    "    - computed over 2000 sampled nodes: $\\langle d \\rangle = 2.90 $     \n",
    "    - pseudo-diameter: $d_{\\max} = 8$"
   ]
  },
  {
   "cell_type": "code",
   "execution_count": null,
   "id": "4ad72ef3",
   "metadata": {},
   "outputs": [],
   "source": [
    "fig, ax = plt.subplots(figsize=(9, 4.5))\n",
    "\n",
    "sns.barplot(x=dist_bins[1:-1], y=dist_counts[1:] / sum(dist_counts), ax=ax)\n",
    "ax.set_xlabel(r\"$d$\",  fontsize=15)\n",
    "ax.set_ylabel(r\"$P_d$\",fontsize=15)\n",
    "ax.set_yscale('log')\n",
    "ax.tick_params(axis='both', which='major', labelsize=13)\n",
    "plt.show()"
   ]
  },
  {
   "cell_type": "markdown",
   "id": "95b6f045",
   "metadata": {
    "slideshow": {
     "slide_type": "subslide"
    }
   },
   "source": [
    "### Reduced Graph\n"
   ]
  },
  {
   "cell_type": "code",
   "execution_count": null,
   "id": "6626ca4c",
   "metadata": {},
   "outputs": [],
   "source": [
    "def gen_reduced_graph(df_games: pd.DataFrame, df_players: pd.DataFrame):\n",
    "    num_bins = df_players[\"v_bin\"].max() + 1\n",
    "    rg = gt.complete_graph(num_bins, self_loops=True, directed=True)\n",
    "    vp_elo = rg.new_vp(\"short\")  # elo of the bin\n",
    "    vp_num = rg.new_vp(\"long\")  # number of player in each bin\n",
    "    ep_num = rg.new_ep(\"long\", val=0)  # number of games between bins of players\n",
    "\n",
    "    # add vertex properties\n",
    "    for v, (bin, bin_players) in enumerate(df_players.groupby(\"bin\")):\n",
    "        vp_elo[v] = bin\n",
    "        vp_num[v] = len(bin_players)\n",
    "\n",
    "    # add edges and edge properties\n",
    "    v_bin_white_group = tqdm(df_games.groupby(\"v_bin_white\"), total=num_bins)\n",
    "    for v_bin_white, white_games in v_bin_white_group:\n",
    "        for v_bin_black, black_games in white_games.groupby(\"v_bin_black\"):\n",
    "            e = rg.edge(v_bin_white, v_bin_black)\n",
    "            ep_num[e] += len(black_games)\n",
    "\n",
    "    rg.ep[\"num\"] = ep_num\n",
    "    rg.vp[\"elo\"] = vp_elo\n",
    "    rg.vp[\"num\"] = vp_num\n",
    "    return rg\n",
    "\n",
    "rg = gen_reduced_graph(df_games, df_players)\n",
    "\n",
    "print(\"Reudced Graph\")\n",
    "print(\"=\" * 40)\n",
    "print(\"Number of vertices:\\t\", rg.num_vertices())\n",
    "print(\"Number of edges:\\t\", rg.num_edges())"
   ]
  },
  {
   "cell_type": "markdown",
   "id": "760b9e79",
   "metadata": {
    "slideshow": {
     "slide_type": "-"
    }
   },
   "source": [
    "Group players with same $x$-bin into single node.\n",
    "\n",
    "- **Nodes** \n",
    "    - represent a bin of size 50\n",
    "    - properties: $x$-bin, # players\n",
    "    - $N = 39$\n",
    "\n",
    "- **Links**\n",
    "    - represent games between bins of players\n",
    "    - directed: players with white pieces are the source\n",
    "    - weight: number of games\n",
    "    - self-loops: players of the same bin can play against each other\n",
    "    - $L = N^2 = 1521$"
   ]
  },
  {
   "cell_type": "code",
   "execution_count": null,
   "id": "ba5ded42",
   "metadata": {},
   "outputs": [],
   "source": [
    "def draw_reduced_graph(df_players: pd.DataFrame, rg: gt.Graph):\n",
    "    vp_pos = rg.new_vp(\"vector<double>\")\n",
    "    vp_color = rg.new_vp(\"vector<double>\")\n",
    "    ep_color = rg.new_ep(\"vector<double>\")\n",
    "    ep_width = rg.new_ep(\"vector<double>\")\n",
    "\n",
    "    cmap = cm[\"viridis\"]\n",
    "    norm = Normalize(vmin=min(rg.vp[\"elo\"].a), vmax=max(rg.vp[\"elo\"].a))\n",
    "    step = 2 * np.pi / rg.num_vertices()\n",
    "    for i, v in enumerate(rg.vertices()):\n",
    "        vp_color[v] = cmap(norm(rg.vp[\"elo\"][v]))\n",
    "        vp_pos[v] = (np.cos(i * step), np.sin(i * step))\n",
    "\n",
    "    vp_size = gt.prop_to_size(rg.vp[\"num\"], mi=10, ma=35, log=False, power=0.5)\n",
    "\n",
    "    cmap = cm[\"plasma\"]\n",
    "    norm = Normalize(vmin=min(rg.ep[\"num\"].a), vmax=max(rg.ep[\"num\"].a))\n",
    "    for e in rg.edges():\n",
    "        ep_color[e] = cmap(norm(rg.ep[\"num\"][e]))\n",
    "    ep_width = gt.prop_to_size(rg.ep[\"num\"], mi=0.01, ma=5, log=False, power=0.5)\n",
    "\n",
    "    gt.graph_draw(\n",
    "        rg,\n",
    "        ## Vertices\n",
    "        pos=vp_pos,\n",
    "        output_size=(550,550),\n",
    "        vertex_fill_color=vp_color,\n",
    "        vertex_size=vp_size,\n",
    "        ## Edges\n",
    "        # edge_color=ep_color,\n",
    "        edge_pen_width=ep_width,\n",
    "        edge_end_marker=\"none\",\n",
    "    )\n",
    "    \n",
    "draw_reduced_graph(df_players, rg)"
   ]
  },
  {
   "cell_type": "code",
   "execution_count": null,
   "id": "5e79ea26",
   "metadata": {},
   "outputs": [],
   "source": [
    "assort, var_assort = gt.scalar_assortativity(rg, rg.vp[\"elo\"], eweight=rg.ep[\"num\"])\n",
    "print(f\"Assort. (eweight):\\t {assort:.2f} ± {var_assort:.2f}\")"
   ]
  },
  {
   "cell_type": "markdown",
   "id": "4c6c6136",
   "metadata": {
    "slideshow": {
     "slide_type": "subslide"
    }
   },
   "source": [
    "- **weighted $x$-assortativity**: $0.78 \\pm 0.33$"
   ]
  },
  {
   "cell_type": "code",
   "execution_count": null,
   "id": "9fac69c3",
   "metadata": {},
   "outputs": [],
   "source": [
    "def plot_assortativity_matrix_rg(rg: gt.Graph):\n",
    "    ep_weight = gt.prop_to_size(rg.ep[\"num\"], mi=0.01, ma=5, log=False, power=0.5)\n",
    "    mat = np.zeros((rg.num_vertices(), rg.num_vertices()))\n",
    "    for e in rg.edges():\n",
    "        i = int(e.source())\n",
    "        j = int(e.target())\n",
    "        mat[i, j] += ep_weight[e]\n",
    "\n",
    "    # Normalize the matrix across each row\n",
    "    mat /= mat.sum(axis=1, keepdims=True)\n",
    "\n",
    "    fig, ax = plt.subplots(figsize=(5, 5))\n",
    "    ax.imshow(mat, cmap=\"magma\", origin=\"lower\")\n",
    "\n",
    "    tick_indices = np.linspace(\n",
    "        start=0,\n",
    "        stop=mat.shape[0] - 1,\n",
    "        num=8,\n",
    "        endpoint=True,\n",
    "        dtype=int,\n",
    "    )\n",
    "    tick_labels = [rg.vp[\"elo\"][idx] for idx in tick_indices]\n",
    "    ax.set_xticks(tick_indices[1:])\n",
    "    ax.set_yticks(tick_indices[:])\n",
    "    ax.set_xticklabels(tick_labels[1:], rotation=45)\n",
    "    ax.set_yticklabels(tick_labels[:])\n",
    "    ax.set_ylabel(r\"White $x$-bins\", fontsize=15)\n",
    "    ax.set_xlabel(r\"Black $x$-bins\", fontsize=15)\n",
    "    ax.tick_params(axis='both', which='major', labelsize=13)\n",
    "\n",
    "    # Save the figure\n",
    "    fig.tight_layout()\n",
    "\n",
    "plot_assortativity_matrix_rg(rg)"
   ]
  },
  {
   "cell_type": "markdown",
   "id": "1ba64b74",
   "metadata": {
    "slideshow": {
     "slide_type": "slide"
    }
   },
   "source": [
    "## Matchmaking Network - Simple Model"
   ]
  },
  {
   "cell_type": "markdown",
   "id": "d65fa2f4",
   "metadata": {
    "slideshow": {
     "slide_type": "subslide"
    }
   },
   "source": [
    "### Recipe\n",
    "\n",
    "---\n",
    "1. Start from fix set of $N$ nodes with rating $X \\sim \\mathcal{N}(\\mu_{x}, \\sigma_{x})$\n",
    "---\n",
    "2. Select a random node $s$ as source\n",
    "---\n",
    "3. Sample from distribution $ \\propto \\mathcal{N} (\\mu_{x}, \\sigma_{x}) \\cdot \\mathcal{N} (x_s, \\alpha)$ a rating $x_t$\n",
    "---\n",
    "4. Add the edge $s \\rightarrow t$ where $t :=$ argmin $|x_v - x_{t}|$ (with $v \\neq s$)\n",
    "---\n",
    "\n",
    "*... and repeat 2. to 4.*"
   ]
  },
  {
   "cell_type": "markdown",
   "id": "966fdda7",
   "metadata": {
    "slideshow": {
     "slide_type": "subslide"
    }
   },
   "source": [
    "$$\n",
    "\\mathcal{N} (\\mu_t, \\beta \\,) =\n",
    "\\mathcal{N} (\\mu_{x}, \\sigma_{x}) \\cdot \\mathcal{N} (x_s, \\alpha)\n",
    "\\quad \\text{where} \\quad\n",
    "\\mu_{t} := \\frac{\\mu_x \\alpha^2 + x_s \\sigma^2_x}{\\sigma^2_x + \\alpha^2}\n",
    "\\quad\n",
    "\\beta := \\sqrt{\\frac{\\sigma^2_x \\alpha^2}{\\sigma^2_x + \\alpha^2}}\n",
    "$$\n",
    "\n",
    "---\n",
    "\n",
    "$$\n",
    "\\mathcal{N}_x \\equiv\n",
    "\\mathcal{N} (\\mu_{x}, \\sigma_{x}) \\,\n",
    "\\begin{cases}\n",
    "\\mu_{x} = 1500 \\\\\n",
    "\\sigma_{x} = 250\n",
    "\\end{cases}\n",
    "\\quad\n",
    "\\mathcal{N}_s \\equiv\n",
    "\\mathcal{N} (x_s, \\alpha) \\,\n",
    "\\begin{cases}\n",
    "x_s = 2300 \\\\\n",
    "\\alpha = 150\n",
    "\\end{cases}\n",
    "\\quad \\Longrightarrow \\quad\n",
    "\\mathcal{N}_t\n",
    "\\begin{cases}\n",
    "\\mu_t \\approx 2088 \\\\\n",
    "\\beta \\approx 129\n",
    "\\end{cases}\n",
    "$$"
   ]
  },
  {
   "cell_type": "code",
   "execution_count": null,
   "id": "762e1f79",
   "metadata": {},
   "outputs": [],
   "source": [
    "# params N_x\n",
    "mu_x = 1500\n",
    "o_x = 250\n",
    "o2_x = o_x ** 2\n",
    "\n",
    "# params N_s\n",
    "x_s = 2300\n",
    "a = 150\n",
    "a2 = a ** 2\n",
    "\n",
    "# params N_t\n",
    "mu_t = (mu_x * a2 + x_s * o2_x) / (o2_x + a2)\n",
    "b = np.sqrt((o2_x * a2) / (o2_x + a2))\n",
    "\n",
    "# distributions\n",
    "x = np.linspace(500, 3000, 1000)\n",
    "N_x = (1/(o_x * np.sqrt(2 * np.pi))) * np.exp(-0.5 * ((x - mu_x)/o_x )**2)\n",
    "N_s = (1/(a   * np.sqrt(2 * np.pi))) * np.exp(-0.5 * ((x - x_s) /a   )**2)\n",
    "N_t = (1/(b   * np.sqrt(2 * np.pi))) * np.exp(-0.5 * ((x - mu_t) /b )**2)\n",
    "\n",
    "fig, ax = plt.subplots(figsize=(9, 3.5))\n",
    "ax.plot(x, N_x, label=r\"$\\mathcal{N}_x$\", linestyle=\"solid\",  linewidth=2.5)\n",
    "ax.plot(x, N_s, label=r\"$\\mathcal{N}_s$\", linestyle=\"dashed\", linewidth=2.5)\n",
    "ax.plot(x, N_t, label=r\"$\\mathcal{N}_t$\", linestyle=\"dotted\", linewidth=2.5)\n",
    "ax.set_xlabel('$x$', fontsize=15)\n",
    "ax.set_yticklabels([])\n",
    "ax.tick_params(axis='both', which='major', labelsize=13)\n",
    "ax.legend(fontsize=15)\n",
    "plt.show()"
   ]
  },
  {
   "cell_type": "code",
   "execution_count": null,
   "id": "1f019aef",
   "metadata": {},
   "outputs": [],
   "source": [
    "def matchmaking_network(N, L, mu_x, o_x, alpha, mix=True):\n",
    "    np.random.seed(1)\n",
    "\n",
    "    G = gt.Graph(N)\n",
    "    xs = np.random.normal(mu_x, o_x, size=N).astype(int)\n",
    "    xs = np.sort(xs) # this make it easier to draw assort. matrix\n",
    "    ep_w = G.new_edge_property(\"int\", val=0)\n",
    "    vp_x = G.new_vertex_property(\"int\", vals=xs)\n",
    "    \n",
    "    def sample_x_t(x_s):\n",
    "        o2_x, a2 = o_x * o_x, alpha * alpha\n",
    "        mu_t = (mu_x * a2 + x_s * o2_x) / (o2_x + a2)\n",
    "        b = np.sqrt((o2_x * a2) / (o2_x + a2))\n",
    "        return np.random.normal(mu_t, b)\n",
    "\n",
    "    def add_edge(s, x_t):\n",
    "        x_s = xs[s]\n",
    "        xs[s] = -1\n",
    "        diff = np.abs(xs - x_t)\n",
    "        min_indices = np.where(diff == diff.min())[0]\n",
    "        t = np.random.choice(min_indices)\n",
    "        xs[s] = x_s\n",
    "        st = G.edge(s, t)\n",
    "        if st is None:\n",
    "            st = G.add_edge(s, t)\n",
    "        ep_w[st] += 1\n",
    "\n",
    "    # ... repeat 2. to 4.\n",
    "    for _ in range(L):\n",
    "        s = np.random.randint(0, len(G))\n",
    "        x_t = sample_x_t(xs[s])\n",
    "        add_edge(s, x_t)\n",
    "    \n",
    "    G.ep[\"w\"] = ep_w\n",
    "    G.vp[\"x\"] = vp_x\n",
    "    return G\n",
    "\n",
    "\n",
    "def draw_matchmaking_network(G, p=2, C=0.2):\n",
    "    np.random.seed(3)\n",
    "    vp_x = G.vp[\"x\"]\n",
    "    ep_w = G.ep[\"w\"]\n",
    "    \n",
    "    # initial position\n",
    "    init_pos = np.stack([vp_x.a, 100 * np.random.rand(len(vp_x.a))], axis=1)\n",
    "    vp_init_pos = G.new_vertex_property(\"vector<float>\", vals=init_pos)\n",
    "    vp_pos = gt.sfdp_layout(G, eweight=ep_w)#, pos=vp_init_pos, C=C, p=p)\n",
    "\n",
    "    # vertex fill color\n",
    "    norm_color = plt.Normalize(min(vp_x), max(vp_x))\n",
    "    x_to_color = lambda x: cm[\"viridis\"](norm_color(x))\n",
    "    xs_to_colors = np.vectorize(x_to_color, otypes=[np.ndarray])\n",
    "    vp_color = G.new_vertex_property(\"vector<float>\", vals=xs_to_colors(vp_x))\n",
    "    \n",
    "    gt.graph_draw(\n",
    "        G, \n",
    "        output_size=(600, 500),\n",
    "        pos=vp_pos,\n",
    "        vertex_fill_color=vp_color,\n",
    "        edge_pen_width=gt.prop_to_size(ep_w),\n",
    "    )"
   ]
  },
  {
   "cell_type": "markdown",
   "id": "a7df3677",
   "metadata": {
    "slideshow": {
     "slide_type": "subslide"
    }
   },
   "source": [
    "**Example:**$\\quad N = 300 \\quad L = 30,000 \\quad \\mathcal{N}(\\mu_x = 1500, \\sigma_x = 400) \\quad \\alpha = 200 $"
   ]
  },
  {
   "cell_type": "code",
   "execution_count": null,
   "id": "14c5e1f5",
   "metadata": {},
   "outputs": [],
   "source": [
    "G = matchmaking_network(N=300, L=15_000, mu_x=1500, o_x=400, alpha=200)\n",
    "draw_matchmaking_network(G, p=2.8, C=30)"
   ]
  },
  {
   "cell_type": "code",
   "execution_count": null,
   "id": "54ea2dcb",
   "metadata": {},
   "outputs": [],
   "source": [
    "assort, var_assort = gt.scalar_assortativity(G, G.vp[\"x\"], eweight=G.ep[\"w\"])\n",
    "print(f\"Assort. (eweight):\\t {assort:.2f} ± {var_assort:.2f}\")"
   ]
  },
  {
   "cell_type": "markdown",
   "id": "c2a0237e",
   "metadata": {
    "slideshow": {
     "slide_type": "subslide"
    }
   },
   "source": [
    "- **weighted $x$-assortativity**: $0.86 \\pm 0.04$"
   ]
  },
  {
   "cell_type": "code",
   "execution_count": null,
   "id": "12e6a051",
   "metadata": {},
   "outputs": [],
   "source": [
    "def plot_assortativity_matrix_G(g: gt.Graph):\n",
    "    adj = gt.adjacency(g)\n",
    "    fig, ax = plt.subplots(figsize=(4, 4))\n",
    "    ax.spy(adj, markersize=1, origin=\"lower\", marker=\".\")\n",
    "\n",
    "    # Set the ticks and labels to the sorted ELOs\n",
    "    tick_indices = np.linspace(\n",
    "        start=0,\n",
    "        stop=adj.shape[0] - 10,  # a little bit of padding\n",
    "        num=8,  # number of ticks\n",
    "        endpoint=True,\n",
    "        dtype=int,\n",
    "    )\n",
    "    tick_labels = [g.vp[\"x\"][idx] for idx in tick_indices]\n",
    "\n",
    "    ax.set_xticks(tick_indices[1:])\n",
    "    ax.set_yticks(tick_indices[:])\n",
    "    ax.set_xticklabels(tick_labels[1:], rotation=45)\n",
    "    ax.set_yticklabels(tick_labels[:])\n",
    "    ax.tick_params(axis='both', which='major', labelsize=13)\n",
    "\n",
    "    \n",
    "#  This is to hard to plot with SVG backend\n",
    "with plt.rc_context({'savefig.format': 'png'}):\n",
    "    set_matplotlib_formats('retina')\n",
    "    plot_assortativity_matrix_G(G)"
   ]
  },
  {
   "cell_type": "markdown",
   "id": "988dbe8f",
   "metadata": {
    "slideshow": {
     "slide_type": "slide"
    }
   },
   "source": [
    "## References\n",
    "\n",
    "[1] Elo, Arpad E. (August 1967). \"The Proposed USCF Rating System, Its Development, Theory, and Applications\". Chess Life. XXII (8): 242–247. [PDF](https://uscf1-nyc1.aodhosting.com/CL-AND-CR-ALL/CL-ALL/1967/1967_08.pdf#page=26)\n",
    "\n",
    "[2] Arthur, Berg. (September 2020). \"Statistical Analysis of the Elo Rating System in Chess\". [LINK](https://chance.amstat.org/2020/09/chess/)\n",
    "\n",
    "[3] Lichess.org, \"Lichess Database.\" Accessed June 10, 2024. [LINK](https://database.lichess.org)\n",
    "\n",
    "[4] Barabási, Albert-László. (2016). \"Network Science\". Cambridge University Press. [LINK](http://barabasi.com/networksciencebook/)\n",
    "\n",
    "[5] Peixoto, Tiago P. (2014). \"The graph-tool Python library\". [LINK](https://graph-tool.skewed.de/)\n",
    "\n",
    "[6] P.A. Bromiley (November 2003), \"Product and Convolution of Gaussian Distribution\". Internal report. [PDF](https://web.archive.org/web/20130517221128/http://www.tina-vision.net/docs/memos/2003-003.pdf)"
   ]
  }
 ],
 "metadata": {
  "language_info": {
   "name": "python"
  }
 },
 "nbformat": 4,
 "nbformat_minor": 5
}
